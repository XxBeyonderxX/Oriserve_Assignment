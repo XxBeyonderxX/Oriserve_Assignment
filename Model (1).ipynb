{
 "cells": [
  {
   "cell_type": "code",
   "execution_count": 1,
   "id": "TYpCxtCYb0ty",
   "metadata": {
    "colab": {
     "base_uri": "https://localhost:8080/",
     "height": 1000
    },
    "id": "TYpCxtCYb0ty",
    "outputId": "f53c9ab1-93ff-43e3-de33-d4d43b9271d6"
   },
   "outputs": [
    {
     "name": "stderr",
     "output_type": "stream",
     "text": [
      "ERROR: Could not find a version that satisfies the requirement tensorflow-text==2.13.* (from versions: none)\n",
      "ERROR: No matching distribution found for tensorflow-text==2.13.*\n"
     ]
    }
   ],
   "source": [
    "!pip install \"tensorflow-text==2.13.*\""
   ]
  },
  {
   "cell_type": "code",
   "execution_count": null,
   "id": "3t8YhntObvJH",
   "metadata": {
    "colab": {
     "base_uri": "https://localhost:8080/"
    },
    "id": "3t8YhntObvJH",
    "outputId": "e3757ca0-8b0f-48ec-8949-783a54769f96"
   },
   "outputs": [],
   "source": [
    "!pip install \"tf-models-official==2.13.*\""
   ]
  },
  {
   "cell_type": "code",
   "execution_count": 1,
   "id": "964b2d3e",
   "metadata": {
    "id": "964b2d3e"
   },
   "outputs": [],
   "source": [
    "import pandas as pd\n",
    "import numpy as np\n",
    "import re\n",
    "import spacy\n"
   ]
  },
  {
   "cell_type": "code",
   "execution_count": 2,
   "id": "AQKIMamGhg2E",
   "metadata": {
    "id": "AQKIMamGhg2E"
   },
   "outputs": [],
   "source": [
    "dataset=pd.read_csv(\"Evaluation-dataset.csv\")"
   ]
  },
  {
   "cell_type": "code",
   "execution_count": 3,
   "id": "e3ba0f53",
   "metadata": {
    "id": "e3ba0f53"
   },
   "outputs": [],
   "source": [
    "col={\"Review\":1}\n",
    "for i in range(1,len(dataset.axes[0])):\n",
    "    for j in range(1, len(dataset.axes[1])):\n",
    "        if 'positive' in str(dataset.loc[i][j]):\n",
    "            sentiment=str(dataset.loc[i][j])\n",
    "            col[sentiment[:-9]]=1\n",
    "        if 'negative' in str(dataset.loc[i][j]):\n",
    "            sentiment=str(dataset.loc[i][j])\n",
    "            col[sentiment[:-9]]=1"
   ]
  },
  {
   "cell_type": "code",
   "execution_count": 4,
   "id": "ae22444f",
   "metadata": {
    "id": "ae22444f"
   },
   "outputs": [],
   "source": [
    "newdata=pd.DataFrame(columns=[i for i in col])"
   ]
  },
  {
   "cell_type": "code",
   "execution_count": 5,
   "id": "nvvuTo5xj2gt",
   "metadata": {
    "id": "nvvuTo5xj2gt"
   },
   "outputs": [],
   "source": [
    "newdata[\"Review\"]=dataset[\"review\"]"
   ]
  },
  {
   "cell_type": "code",
   "execution_count": 6,
   "id": "umKe96_GoXVA",
   "metadata": {
    "id": "umKe96_GoXVA"
   },
   "outputs": [],
   "source": [
    "col={\"Review\":1}\n",
    "for i in range(0,len(dataset.axes[0])):\n",
    "    for j in range(1, len(dataset.axes[1])):\n",
    "        if 'positive' in str(dataset.loc[i][j]):\n",
    "            sentiment=str(dataset.loc[i][j])\n",
    "            newdata[sentiment[:-9]][i]=1\n",
    "        if 'negative' in str(dataset.loc[i][j]):\n",
    "            sentiment=str(dataset.loc[i][j])\n",
    "            newdata[sentiment[:-9]][i]=-1"
   ]
  },
  {
   "cell_type": "code",
   "execution_count": 8,
   "id": "cae750b9",
   "metadata": {
    "id": "cae750b9"
   },
   "outputs": [
    {
     "data": {
      "text/html": [
       "<div>\n",
       "<style scoped>\n",
       "    .dataframe tbody tr th:only-of-type {\n",
       "        vertical-align: middle;\n",
       "    }\n",
       "\n",
       "    .dataframe tbody tr th {\n",
       "        vertical-align: top;\n",
       "    }\n",
       "\n",
       "    .dataframe thead th {\n",
       "        text-align: right;\n",
       "    }\n",
       "</style>\n",
       "<table border=\"1\" class=\"dataframe\">\n",
       "  <thead>\n",
       "    <tr style=\"text-align: right;\">\n",
       "      <th></th>\n",
       "      <th>Review</th>\n",
       "      <th>garage service</th>\n",
       "      <th>value for money</th>\n",
       "      <th>ease of booking</th>\n",
       "      <th>location</th>\n",
       "      <th>length of fitting</th>\n",
       "      <th>change of date</th>\n",
       "      <th>tyre quality</th>\n",
       "      <th>wait time</th>\n",
       "      <th>delivery punctuality</th>\n",
       "      <th>...</th>\n",
       "      <th>mobile fitter didn't arrive</th>\n",
       "      <th>discount not applied</th>\n",
       "      <th>tyre agedot code</th>\n",
       "      <th>failed payment</th>\n",
       "      <th>incorrect tyres sent</th>\n",
       "      <th>call wait time</th>\n",
       "      <th>refund</th>\n",
       "      <th>no stock</th>\n",
       "      <th>response time</th>\n",
       "      <th>tyre age/dot code</th>\n",
       "    </tr>\n",
       "  </thead>\n",
       "  <tbody>\n",
       "    <tr>\n",
       "      <th>0</th>\n",
       "      <td>Tires where delivered to the garage of my choi...</td>\n",
       "      <td>1</td>\n",
       "      <td>0</td>\n",
       "      <td>1</td>\n",
       "      <td>0</td>\n",
       "      <td>0</td>\n",
       "      <td>0</td>\n",
       "      <td>0</td>\n",
       "      <td>0</td>\n",
       "      <td>0</td>\n",
       "      <td>...</td>\n",
       "      <td>0</td>\n",
       "      <td>0</td>\n",
       "      <td>0</td>\n",
       "      <td>0</td>\n",
       "      <td>0</td>\n",
       "      <td>0</td>\n",
       "      <td>0</td>\n",
       "      <td>0</td>\n",
       "      <td>0</td>\n",
       "      <td>0</td>\n",
       "    </tr>\n",
       "    <tr>\n",
       "      <th>1</th>\n",
       "      <td>Easy Tyre Selection Process, Competitive Prici...</td>\n",
       "      <td>1</td>\n",
       "      <td>1</td>\n",
       "      <td>0</td>\n",
       "      <td>0</td>\n",
       "      <td>0</td>\n",
       "      <td>0</td>\n",
       "      <td>0</td>\n",
       "      <td>0</td>\n",
       "      <td>0</td>\n",
       "      <td>...</td>\n",
       "      <td>0</td>\n",
       "      <td>0</td>\n",
       "      <td>0</td>\n",
       "      <td>0</td>\n",
       "      <td>0</td>\n",
       "      <td>0</td>\n",
       "      <td>0</td>\n",
       "      <td>0</td>\n",
       "      <td>0</td>\n",
       "      <td>0</td>\n",
       "    </tr>\n",
       "    <tr>\n",
       "      <th>2</th>\n",
       "      <td>Very easy to use and good value for money.</td>\n",
       "      <td>0</td>\n",
       "      <td>1</td>\n",
       "      <td>0</td>\n",
       "      <td>0</td>\n",
       "      <td>0</td>\n",
       "      <td>0</td>\n",
       "      <td>0</td>\n",
       "      <td>0</td>\n",
       "      <td>0</td>\n",
       "      <td>...</td>\n",
       "      <td>0</td>\n",
       "      <td>0</td>\n",
       "      <td>0</td>\n",
       "      <td>0</td>\n",
       "      <td>0</td>\n",
       "      <td>0</td>\n",
       "      <td>0</td>\n",
       "      <td>0</td>\n",
       "      <td>0</td>\n",
       "      <td>0</td>\n",
       "    </tr>\n",
       "    <tr>\n",
       "      <th>3</th>\n",
       "      <td>Really easy and convenient to arrange</td>\n",
       "      <td>0</td>\n",
       "      <td>0</td>\n",
       "      <td>1</td>\n",
       "      <td>0</td>\n",
       "      <td>0</td>\n",
       "      <td>0</td>\n",
       "      <td>0</td>\n",
       "      <td>0</td>\n",
       "      <td>0</td>\n",
       "      <td>...</td>\n",
       "      <td>0</td>\n",
       "      <td>0</td>\n",
       "      <td>0</td>\n",
       "      <td>0</td>\n",
       "      <td>0</td>\n",
       "      <td>0</td>\n",
       "      <td>0</td>\n",
       "      <td>0</td>\n",
       "      <td>0</td>\n",
       "      <td>0</td>\n",
       "    </tr>\n",
       "    <tr>\n",
       "      <th>4</th>\n",
       "      <td>It was so easy to select tyre sizes and arrang...</td>\n",
       "      <td>0</td>\n",
       "      <td>1</td>\n",
       "      <td>1</td>\n",
       "      <td>1</td>\n",
       "      <td>0</td>\n",
       "      <td>0</td>\n",
       "      <td>0</td>\n",
       "      <td>0</td>\n",
       "      <td>0</td>\n",
       "      <td>...</td>\n",
       "      <td>0</td>\n",
       "      <td>0</td>\n",
       "      <td>0</td>\n",
       "      <td>0</td>\n",
       "      <td>0</td>\n",
       "      <td>0</td>\n",
       "      <td>0</td>\n",
       "      <td>0</td>\n",
       "      <td>0</td>\n",
       "      <td>0</td>\n",
       "    </tr>\n",
       "    <tr>\n",
       "      <th>...</th>\n",
       "      <td>...</td>\n",
       "      <td>...</td>\n",
       "      <td>...</td>\n",
       "      <td>...</td>\n",
       "      <td>...</td>\n",
       "      <td>...</td>\n",
       "      <td>...</td>\n",
       "      <td>...</td>\n",
       "      <td>...</td>\n",
       "      <td>...</td>\n",
       "      <td>...</td>\n",
       "      <td>...</td>\n",
       "      <td>...</td>\n",
       "      <td>...</td>\n",
       "      <td>...</td>\n",
       "      <td>...</td>\n",
       "      <td>...</td>\n",
       "      <td>...</td>\n",
       "      <td>...</td>\n",
       "      <td>...</td>\n",
       "      <td>...</td>\n",
       "    </tr>\n",
       "    <tr>\n",
       "      <th>10127</th>\n",
       "      <td>I ordered the wrong tyres, however [REDACTED] ...</td>\n",
       "      <td>0</td>\n",
       "      <td>0</td>\n",
       "      <td>0</td>\n",
       "      <td>0</td>\n",
       "      <td>0</td>\n",
       "      <td>0</td>\n",
       "      <td>0</td>\n",
       "      <td>0</td>\n",
       "      <td>1</td>\n",
       "      <td>...</td>\n",
       "      <td>0</td>\n",
       "      <td>0</td>\n",
       "      <td>0</td>\n",
       "      <td>0</td>\n",
       "      <td>0</td>\n",
       "      <td>0</td>\n",
       "      <td>1</td>\n",
       "      <td>0</td>\n",
       "      <td>0</td>\n",
       "      <td>0</td>\n",
       "    </tr>\n",
       "    <tr>\n",
       "      <th>10128</th>\n",
       "      <td>Good experience, first time I have used [REDAC...</td>\n",
       "      <td>0</td>\n",
       "      <td>0</td>\n",
       "      <td>0</td>\n",
       "      <td>0</td>\n",
       "      <td>1</td>\n",
       "      <td>0</td>\n",
       "      <td>0</td>\n",
       "      <td>0</td>\n",
       "      <td>0</td>\n",
       "      <td>...</td>\n",
       "      <td>0</td>\n",
       "      <td>0</td>\n",
       "      <td>0</td>\n",
       "      <td>0</td>\n",
       "      <td>0</td>\n",
       "      <td>0</td>\n",
       "      <td>0</td>\n",
       "      <td>0</td>\n",
       "      <td>0</td>\n",
       "      <td>0</td>\n",
       "    </tr>\n",
       "    <tr>\n",
       "      <th>10129</th>\n",
       "      <td>I ordered the tyre I needed on line, booked a ...</td>\n",
       "      <td>0</td>\n",
       "      <td>1</td>\n",
       "      <td>0</td>\n",
       "      <td>1</td>\n",
       "      <td>1</td>\n",
       "      <td>0</td>\n",
       "      <td>0</td>\n",
       "      <td>0</td>\n",
       "      <td>1</td>\n",
       "      <td>...</td>\n",
       "      <td>0</td>\n",
       "      <td>0</td>\n",
       "      <td>0</td>\n",
       "      <td>0</td>\n",
       "      <td>0</td>\n",
       "      <td>0</td>\n",
       "      <td>0</td>\n",
       "      <td>0</td>\n",
       "      <td>0</td>\n",
       "      <td>0</td>\n",
       "    </tr>\n",
       "    <tr>\n",
       "      <th>10130</th>\n",
       "      <td>Excellent service from point of order to fitti...</td>\n",
       "      <td>0</td>\n",
       "      <td>0</td>\n",
       "      <td>0</td>\n",
       "      <td>0</td>\n",
       "      <td>0</td>\n",
       "      <td>0</td>\n",
       "      <td>0</td>\n",
       "      <td>0</td>\n",
       "      <td>0</td>\n",
       "      <td>...</td>\n",
       "      <td>0</td>\n",
       "      <td>0</td>\n",
       "      <td>0</td>\n",
       "      <td>0</td>\n",
       "      <td>0</td>\n",
       "      <td>0</td>\n",
       "      <td>0</td>\n",
       "      <td>0</td>\n",
       "      <td>0</td>\n",
       "      <td>0</td>\n",
       "    </tr>\n",
       "    <tr>\n",
       "      <th>10131</th>\n",
       "      <td>Seamless, well managed at both ends. I would r...</td>\n",
       "      <td>0</td>\n",
       "      <td>0</td>\n",
       "      <td>0</td>\n",
       "      <td>0</td>\n",
       "      <td>0</td>\n",
       "      <td>0</td>\n",
       "      <td>0</td>\n",
       "      <td>0</td>\n",
       "      <td>0</td>\n",
       "      <td>...</td>\n",
       "      <td>0</td>\n",
       "      <td>0</td>\n",
       "      <td>0</td>\n",
       "      <td>0</td>\n",
       "      <td>0</td>\n",
       "      <td>0</td>\n",
       "      <td>0</td>\n",
       "      <td>0</td>\n",
       "      <td>0</td>\n",
       "      <td>0</td>\n",
       "    </tr>\n",
       "  </tbody>\n",
       "</table>\n",
       "<p>10132 rows × 33 columns</p>\n",
       "</div>"
      ],
      "text/plain": [
       "                                                  Review  garage service  \\\n",
       "0      Tires where delivered to the garage of my choi...               1   \n",
       "1      Easy Tyre Selection Process, Competitive Prici...               1   \n",
       "2             Very easy to use and good value for money.               0   \n",
       "3                  Really easy and convenient to arrange               0   \n",
       "4      It was so easy to select tyre sizes and arrang...               0   \n",
       "...                                                  ...             ...   \n",
       "10127  I ordered the wrong tyres, however [REDACTED] ...               0   \n",
       "10128  Good experience, first time I have used [REDAC...               0   \n",
       "10129  I ordered the tyre I needed on line, booked a ...               0   \n",
       "10130  Excellent service from point of order to fitti...               0   \n",
       "10131  Seamless, well managed at both ends. I would r...               0   \n",
       "\n",
       "       value for money  ease of booking  location  length of fitting  \\\n",
       "0                    0                1         0                  0   \n",
       "1                    1                0         0                  0   \n",
       "2                    1                0         0                  0   \n",
       "3                    0                1         0                  0   \n",
       "4                    1                1         1                  0   \n",
       "...                ...              ...       ...                ...   \n",
       "10127                0                0         0                  0   \n",
       "10128                0                0         0                  1   \n",
       "10129                1                0         1                  1   \n",
       "10130                0                0         0                  0   \n",
       "10131                0                0         0                  0   \n",
       "\n",
       "       change of date  tyre quality  wait time  delivery punctuality  ...  \\\n",
       "0                   0             0          0                     0  ...   \n",
       "1                   0             0          0                     0  ...   \n",
       "2                   0             0          0                     0  ...   \n",
       "3                   0             0          0                     0  ...   \n",
       "4                   0             0          0                     0  ...   \n",
       "...               ...           ...        ...                   ...  ...   \n",
       "10127               0             0          0                     1  ...   \n",
       "10128               0             0          0                     0  ...   \n",
       "10129               0             0          0                     1  ...   \n",
       "10130               0             0          0                     0  ...   \n",
       "10131               0             0          0                     0  ...   \n",
       "\n",
       "       mobile fitter didn't arrive  discount not applied  tyre agedot code  \\\n",
       "0                                0                     0                 0   \n",
       "1                                0                     0                 0   \n",
       "2                                0                     0                 0   \n",
       "3                                0                     0                 0   \n",
       "4                                0                     0                 0   \n",
       "...                            ...                   ...               ...   \n",
       "10127                            0                     0                 0   \n",
       "10128                            0                     0                 0   \n",
       "10129                            0                     0                 0   \n",
       "10130                            0                     0                 0   \n",
       "10131                            0                     0                 0   \n",
       "\n",
       "       failed payment  incorrect tyres sent  call wait time  refund  no stock  \\\n",
       "0                   0                     0               0       0         0   \n",
       "1                   0                     0               0       0         0   \n",
       "2                   0                     0               0       0         0   \n",
       "3                   0                     0               0       0         0   \n",
       "4                   0                     0               0       0         0   \n",
       "...               ...                   ...             ...     ...       ...   \n",
       "10127               0                     0               0       1         0   \n",
       "10128               0                     0               0       0         0   \n",
       "10129               0                     0               0       0         0   \n",
       "10130               0                     0               0       0         0   \n",
       "10131               0                     0               0       0         0   \n",
       "\n",
       "       response time  tyre age/dot code  \n",
       "0                  0                  0  \n",
       "1                  0                  0  \n",
       "2                  0                  0  \n",
       "3                  0                  0  \n",
       "4                  0                  0  \n",
       "...              ...                ...  \n",
       "10127              0                  0  \n",
       "10128              0                  0  \n",
       "10129              0                  0  \n",
       "10130              0                  0  \n",
       "10131              0                  0  \n",
       "\n",
       "[10132 rows x 33 columns]"
      ]
     },
     "execution_count": 8,
     "metadata": {},
     "output_type": "execute_result"
    }
   ],
   "source": [
    "newdata.fillna(0, inplace=True)\n",
    "newdata"
   ]
  },
  {
   "cell_type": "code",
   "execution_count": 9,
   "id": "vFg4RW1knrw1",
   "metadata": {
    "id": "vFg4RW1knrw1"
   },
   "outputs": [],
   "source": [
    "def get_labels(df):\n",
    "    final=[]\n",
    "    outshape=[]\n",
    "    for i in df.columns:\n",
    "        Y=df[i]\n",
    "        Y = pd.get_dummies(Y)\n",
    "        Y = Y.values\n",
    "        final.append(Y)\n",
    "        outshape.append(Y.shape[0])\n",
    "\n",
    "    return final, outshape"
   ]
  },
  {
   "cell_type": "code",
   "execution_count": 10,
   "id": "8iuGRa98wiQK",
   "metadata": {
    "id": "8iuGRa98wiQK"
   },
   "outputs": [],
   "source": [
    "x=newdata[\"Review\"]\n",
    "y=newdata.drop(\"Review\", axis=1)\n",
    "final, outshape = get_labels(y)"
   ]
  },
  {
   "cell_type": "code",
   "execution_count": 11,
   "id": "peUJs7kkbAhH",
   "metadata": {
    "colab": {
     "base_uri": "https://localhost:8080/"
    },
    "id": "peUJs7kkbAhH",
    "outputId": "94363a6e-497b-4410-fa45-4829f87adf3d"
   },
   "outputs": [
    {
     "data": {
      "text/plain": [
       "Index(['garage service', 'value for money', 'ease of booking', 'location',\n",
       "       'length of fitting', 'change of date', 'tyre quality', 'wait time',\n",
       "       'delivery punctuality', 'mobile fitter', 'advisor/agent service',\n",
       "       'advisoragent service', 'extra charges', 'damage', 'balancing',\n",
       "       'facilities', 'change of time', 'booking confusion', 'late notice',\n",
       "       'discounts', 'refund not actioned', 'refund timescale',\n",
       "       'mobile fitter didn't arrive', 'discount not applied',\n",
       "       'tyre agedot code', 'failed payment', 'incorrect tyres sent',\n",
       "       'call wait time', 'refund', 'no stock', 'response time',\n",
       "       'tyre age/dot code'],\n",
       "      dtype='object')"
      ]
     },
     "execution_count": 11,
     "metadata": {},
     "output_type": "execute_result"
    }
   ],
   "source": [
    "y.columns"
   ]
  },
  {
   "cell_type": "code",
   "execution_count": 12,
   "id": "bgcWxBF3Z9Dk",
   "metadata": {
    "colab": {
     "base_uri": "https://localhost:8080/"
    },
    "id": "bgcWxBF3Z9Dk",
    "outputId": "b3aa5020-d88c-4156-bea4-0fd70eaa170b"
   },
   "outputs": [
    {
     "data": {
      "text/plain": [
       "(10132, 3)"
      ]
     },
     "execution_count": 12,
     "metadata": {},
     "output_type": "execute_result"
    }
   ],
   "source": [
    "final[0].shape"
   ]
  },
  {
   "cell_type": "code",
   "execution_count": 13,
   "id": "RBuBNNUtxMGd",
   "metadata": {
    "id": "RBuBNNUtxMGd"
   },
   "outputs": [
    {
     "ename": "ModuleNotFoundError",
     "evalue": "No module named 'tensorflow_text'",
     "output_type": "error",
     "traceback": [
      "\u001b[1;31m---------------------------------------------------------------------------\u001b[0m",
      "\u001b[1;31mModuleNotFoundError\u001b[0m                       Traceback (most recent call last)",
      "Cell \u001b[1;32mIn[13], line 3\u001b[0m\n\u001b[0;32m      1\u001b[0m \u001b[38;5;28;01mimport\u001b[39;00m \u001b[38;5;21;01mtensorflow_hub\u001b[39;00m \u001b[38;5;28;01mas\u001b[39;00m \u001b[38;5;21;01mhub\u001b[39;00m\n\u001b[0;32m      2\u001b[0m \u001b[38;5;28;01mimport\u001b[39;00m \u001b[38;5;21;01mtensorflow\u001b[39;00m \u001b[38;5;28;01mas\u001b[39;00m \u001b[38;5;21;01mtf\u001b[39;00m\n\u001b[1;32m----> 3\u001b[0m \u001b[38;5;28;01mimport\u001b[39;00m \u001b[38;5;21;01mtensorflow_text\u001b[39;00m \u001b[38;5;28;01mas\u001b[39;00m \u001b[38;5;21;01mtext\u001b[39;00m\n\u001b[0;32m      4\u001b[0m \u001b[38;5;66;03m# bert_preprocess_model = hub.KerasLayer(tfhub_handle_preprocess)\u001b[39;00m\n\u001b[0;32m      5\u001b[0m \u001b[38;5;66;03m# bert_model = hub.KerasLayer(tfhub_handle_encoder)\u001b[39;00m\n",
      "\u001b[1;31mModuleNotFoundError\u001b[0m: No module named 'tensorflow_text'"
     ]
    }
   ],
   "source": [
    "import tensorflow_hub as hub\n",
    "import tensorflow as tf\n",
    "import tensorflow_text as text\n",
    "# bert_preprocess_model = hub.KerasLayer(tfhub_handle_preprocess)\n",
    "# bert_model = hub.KerasLayer(tfhub_handle_encoder)"
   ]
  },
  {
   "cell_type": "code",
   "execution_count": null,
   "id": "yosWdTyTxMC-",
   "metadata": {
    "id": "yosWdTyTxMC-"
   },
   "outputs": [],
   "source": [
    "bert_model_name = 'small_bert/bert_en_uncased_L-4_H-512_A-8'\n",
    "tfhub_handle_encoder='https://tfhub.dev/tensorflow/small_bert/bert_en_uncased_L-4_H-512_A-8/1'\n",
    "tfhub_handle_preprocess='https://tfhub.dev/tensorflow/bert_en_uncased_preprocess/3'\n",
    "\n",
    "def build_classifier_model(outshape):\n",
    "  text_input = tf.keras.layers.Input(shape=(), dtype=tf.string, name='text')\n",
    "  preprocessing_layer = hub.KerasLayer(tfhub_handle_preprocess, name='preprocessing')\n",
    "  encoder_inputs = preprocessing_layer(text_input)\n",
    "  encoder = hub.KerasLayer(tfhub_handle_encoder, trainable=False, name='BERT_encoder')\n",
    "  outputs = encoder(encoder_inputs)\n",
    "  net = outputs['pooled_output']\n",
    "  out_layers=[]\n",
    "  for i in outshape:\n",
    "    out = tf.keras.layers.Dropout(0.1)(net)\n",
    "    out = tf.keras.layers.Dense(8, activation=\"relu\")(out)\n",
    "    out = tf.keras.layers.Dense(i, activation=\"softmax\",)(out)\n",
    "    out_layers.append(out)\n",
    "\n",
    "  return tf.keras.Model(text_input, outputs=out_layers)"
   ]
  },
  {
   "cell_type": "code",
   "execution_count": null,
   "id": "BeA1miLcxMAf",
   "metadata": {
    "id": "BeA1miLcxMAf"
   },
   "outputs": [],
   "source": [
    "optimizer = tf.keras.optimizers.Adam()\n",
    "losses=[]\n",
    "metrics=[]\n",
    "for i in outshape:\n",
    "  losses.append(\"categorical_crossentropy\")\n",
    "  metrics.append(\"accuracy\")\n",
    "model=build_classifier_model(outshape)\n",
    "model.compile(loss=losses, optimizer=optimizer, metrics=metrics)"
   ]
  },
  {
   "cell_type": "code",
   "execution_count": null,
   "id": "wFJ27n9af-vI",
   "metadata": {
    "colab": {
     "base_uri": "https://localhost:8080/"
    },
    "id": "wFJ27n9af-vI",
    "outputId": "f7b40e23-1015-4977-a8a5-8d7a78d5f9bd"
   },
   "outputs": [],
   "source": [
    "model.summary()"
   ]
  },
  {
   "cell_type": "code",
   "execution_count": null,
   "id": "-s7-jaEogseS",
   "metadata": {
    "colab": {
     "base_uri": "https://localhost:8080/",
     "height": 86
    },
    "id": "-s7-jaEogseS",
    "outputId": "4f6d58a9-5f89-4eaa-fcff-259766d5a9eb"
   },
   "outputs": [],
   "source": [
    "tf.keras.utils.plot_model(model)"
   ]
  },
  {
   "cell_type": "code",
   "execution_count": null,
   "id": "Xc6tJLiebgvt",
   "metadata": {
    "id": "Xc6tJLiebgvt"
   },
   "outputs": [],
   "source": [
    "history=model.fit(x, final,\n",
    "                  epochs=50,\n",
    "                  batch_size=32)"
   ]
  },
  {
   "cell_type": "code",
   "execution_count": null,
   "id": "m4nsLu63g9Yq",
   "metadata": {
    "id": "m4nsLu63g9Yq"
   },
   "outputs": [],
   "source": [
    "history"
   ]
  },
  {
   "cell_type": "code",
   "execution_count": null,
   "id": "d9ffe5c1",
   "metadata": {},
   "outputs": [],
   "source": []
  }
 ],
 "metadata": {
  "colab": {
   "provenance": []
  },
  "kernelspec": {
   "display_name": "Python 3 (ipykernel)",
   "language": "python",
   "name": "python3"
  },
  "language_info": {
   "codemirror_mode": {
    "name": "ipython",
    "version": 3
   },
   "file_extension": ".py",
   "mimetype": "text/x-python",
   "name": "python",
   "nbconvert_exporter": "python",
   "pygments_lexer": "ipython3",
   "version": "3.11.0"
  }
 },
 "nbformat": 4,
 "nbformat_minor": 5
}
